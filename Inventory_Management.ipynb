{
 "cells": [
  {
   "cell_type": "code",
   "execution_count": 1,
   "id": "e61550ab",
   "metadata": {},
   "outputs": [],
   "source": [
    "records={2011102040:{\"Name\":\"Fanta\",\"Size in L\":1,\"MRP in Rs.\":20,\"Available Stock\": 48,\"Manufacturer\":\"Nestle\" },\n",
    "         2011102041:{\"Name\":\"Dairy Milk\",\"Wt. in gm\":100,\"MRP in Rs.\":40,\"Available Stock\":38,\"Manufacturer\":\"Cadbury\"},\n",
    "         2011102042:{\"Name\":\"Oreo Biscuits\",\"Wt. in gm\":50,\"MRP in Rs.\":35,\"Available Stock\":50,\"Manufacturer\":\"Oreo\"},\n",
    "         2011102043:{\"Name\":\"Parle G\",\"Wt. in gm\":150,\"MRP in Rs.\":45,\"Available Stock\":40,\"Manufacturer\":\"Parle Agro\"},\n",
    "         2011102044:{\"Name\":\"Wafers\",\"Wt. in gm\":70,\"MRP in Rs.\":50,\"Available Stock\":62,\"Manufacturer\":\"Balaji\"},\n",
    "         2011102045:{\"Name\":\"Tomato Jam\",\"Wt. in gm\":300,\"MRP in Rs.\":25,\"Available Stock\":45,\"Manufacturer\":\"Kissan\"},\n",
    "         2011102046:{\"Name\":\"French Fries\",\"Wt. in gm\":150,\"MRP in Rs.\":60,\"Available Stock\":25,\"Manufacturer\":\"McCain\"},\n",
    "         2011102047:{\"Name\":\"Onion Pickle\",\"Wt. in gm\":200,\"MRP in Rs.\":45,\"Available Stock\":55,\"Manufacturer\":\"Mother Diary\"},\n",
    "         2011102048:{\"Name\":\"Aloo Bhujia\",\"Wt. in gm\":300,\"MRP in Rs.\":55,\"Available Stock\":42,\"Manufacturer\":\"Haldirams\"},\n",
    "         2011102049:{\"Name\":\"Rasam Powder\",\"Wt. in gm\":500,\"MRP in Rs.\":70,\"Available Stock\":30,\"Manufacturer\":\"MTR\"},\n",
    "         2011102050:{\"Name\":\"Chaat Masala\",\"Wt. in gm\":50,\"MRP in Rs.\":15,\"Available Stock\":52,\"Manufacturer\":\"MDH\"},\n",
    "         2011102051:{\"Name\":\"Tomato Sauce\",\"Wt. in gm\":200,\"MRP in Rs.\":25,\"Available Stock\":23,\"Manufacturer\":\"Veeba\"},\n",
    "         2011102052:{\"Name\":\"Ghee\",\"Wt. in gm\":150,\"MRP in Rs.\":30,\"Available Stock\":50,\"Manufacturer\":\"Patanjali\"},\n",
    "         2011102053:{\"Name\":\"Biscuits\",\"Wt. in gm\":100,\"MRP in Rs.\":20,\"Available Stock\":43,\"Manufacturer\":\"Britannia\"},\n",
    "          2011102054:{\"Name\":\"Mango Pickle\",\"Wt. in gm\":200,\"MRP in Rs.\":25,\"Available Stock\":23,\"Manufacturer\":\"Haldirams\"},\n",
    "          2011102055:{\"Name\":\"Mustard Oil\",\"Wt. in gm\":400,\"MRP in Rs.\":60,\"Available Stock\":33,\"Manufacturer\":\"Emami\"},\n",
    "          2011102056:{\"Name\":\"Frooti pack\",\"Wt. in gm\":50,\"MRP in Rs.\":10,\"Available Stock\":40,\"Manufacturer\":\"Frooti\"},\n",
    "          2011102057:{\"Name\":\"Spices\",\"Wt. in gm\":200,\"MRP in Rs.\":25,\"Available Stock\":21,\"Manufacturer\":\"MDH\"},\n",
    "          2011102058:{\"Name\":\"Cooking oil\",\"Wt. in gm\":500,\"MRP in Rs.\":80,\"Available Stock\":40,\"Manufacturer\":\"Saffola\"},\n",
    "          2011102059:{\"Name\":\"Basmati Rice\",\"Wt. in gm\":500,\"MRP in Rs.\":200,\"Available Stock\":41,\"Manufacturer\":\"Daawat\"},\n",
    "          2011102060:{\"Name\":\"Kaju-Katli\",\"Wt. in gm\":100,\"MRP in Rs.\":250,\"Available Stock\":50,\"Manufacturer\":\"Haldirams\"},\n",
    "          2011102061:{\"Name\":\"Chocolate Pastry\",\"Wt. in gm\":60,\"MRP in Rs.\":25,\"Available Stock\":50,\"Manufacturer\":\"Mio Amore\"},\n",
    "          2011102062:{\"Name\":\"Patty\",\"Wt. in gm\":50,\"MRP in Rs.\":25,\"Available Stock\":28,\"Manufacturer\":\"Bhikharam\"},\n",
    "          2011102063:{\"Name\":\"Ice Cream\",\"Wt. in gm\":100,\"MRP in Rs.\":40,\"Available Stock\":23,\"Manufacturer\":\"Amul\"},\n",
    "          2011102064:{\"Name\":\"Milk\",\"Wt. in gm\":50,\"MRP in Rs.\":15,\"Available Stock\":76,\"Manufacturer\":\"Amul\"},\n",
    "         2011102065:{\"Name\":\"Mustard Oil\",\"Wt. in gm\":500,\"MRP in Rs.\":300,\"Available Stock\":76,\"Manufacturer\":\"Fortune\"},\n",
    "         2011102066:{\"Name\":\"Pasta\",\"Wt. in gm\":100,\"MRP in Rs.\":60,\"Available Stock\":40,\"Manufacturer\":\"DiSano\"},\n",
    "         2011102067:{\"Name\":\"Snacks\",\"Wt. in gm\":200,\"MRP in Rs.\":80,\"Available Stock\":50,\"Manufacturer\":\"McCain\"},\n",
    "         2011102068:{\"Name\":\"Kitkat\",\"Wt. in gm\":50,\"MRP in Rs.\":30,\"Available Stock\":40,\"Manufacturer\":\"Nestle\"},\n",
    "         2011102069:{\"Name\":\"JimJam\",\"Wt. in gm\":70,\"MRP in Rs.\":40,\"Available Stock\":29,\"Manufacturer\":\"Nestle\"}}\n",
    "#record of all items already available at the store."
   ]
  },
  {
   "cell_type": "code",
   "execution_count": 2,
   "id": "cdd1ddbd",
   "metadata": {},
   "outputs": [
    {
     "data": {
      "text/plain": [
       "{2011102040: {'Name': 'Fanta',\n",
       "  'Size in L': 1,\n",
       "  'MRP in Rs.': 20,\n",
       "  'Available Stock': 48,\n",
       "  'Manufacturer': 'Nestle'},\n",
       " 2011102041: {'Name': 'Dairy Milk',\n",
       "  'Wt. in gm': 100,\n",
       "  'MRP in Rs.': 40,\n",
       "  'Available Stock': 38,\n",
       "  'Manufacturer': 'Cadbury'},\n",
       " 2011102042: {'Name': 'Oreo Biscuits',\n",
       "  'Wt. in gm': 50,\n",
       "  'MRP in Rs.': 35,\n",
       "  'Available Stock': 50,\n",
       "  'Manufacturer': 'Oreo'},\n",
       " 2011102043: {'Name': 'Parle G',\n",
       "  'Wt. in gm': 150,\n",
       "  'MRP in Rs.': 45,\n",
       "  'Available Stock': 40,\n",
       "  'Manufacturer': 'Parle Agro'},\n",
       " 2011102044: {'Name': 'Wafers',\n",
       "  'Wt. in gm': 70,\n",
       "  'MRP in Rs.': 50,\n",
       "  'Available Stock': 62,\n",
       "  'Manufacturer': 'Balaji'},\n",
       " 2011102045: {'Name': 'Tomato Jam',\n",
       "  'Wt. in gm': 300,\n",
       "  'MRP in Rs.': 25,\n",
       "  'Available Stock': 45,\n",
       "  'Manufacturer': 'Kissan'},\n",
       " 2011102046: {'Name': 'French Fries',\n",
       "  'Wt. in gm': 150,\n",
       "  'MRP in Rs.': 60,\n",
       "  'Available Stock': 25,\n",
       "  'Manufacturer': 'McCain'},\n",
       " 2011102047: {'Name': 'Onion Pickle',\n",
       "  'Wt. in gm': 200,\n",
       "  'MRP in Rs.': 45,\n",
       "  'Available Stock': 55,\n",
       "  'Manufacturer': 'Mother Diary'},\n",
       " 2011102048: {'Name': 'Aloo Bhujia',\n",
       "  'Wt. in gm': 300,\n",
       "  'MRP in Rs.': 55,\n",
       "  'Available Stock': 42,\n",
       "  'Manufacturer': 'Haldirams'},\n",
       " 2011102049: {'Name': 'Rasam Powder',\n",
       "  'Wt. in gm': 500,\n",
       "  'MRP in Rs.': 70,\n",
       "  'Available Stock': 30,\n",
       "  'Manufacturer': 'MTR'},\n",
       " 2011102050: {'Name': 'Chaat Masala',\n",
       "  'Wt. in gm': 50,\n",
       "  'MRP in Rs.': 15,\n",
       "  'Available Stock': 52,\n",
       "  'Manufacturer': 'MDH'},\n",
       " 2011102051: {'Name': 'Tomato Sauce',\n",
       "  'Wt. in gm': 200,\n",
       "  'MRP in Rs.': 25,\n",
       "  'Available Stock': 23,\n",
       "  'Manufacturer': 'Veeba'},\n",
       " 2011102052: {'Name': 'Ghee',\n",
       "  'Wt. in gm': 150,\n",
       "  'MRP in Rs.': 30,\n",
       "  'Available Stock': 50,\n",
       "  'Manufacturer': 'Patanjali'},\n",
       " 2011102053: {'Name': 'Biscuits',\n",
       "  'Wt. in gm': 100,\n",
       "  'MRP in Rs.': 20,\n",
       "  'Available Stock': 43,\n",
       "  'Manufacturer': 'Britannia'},\n",
       " 2011102054: {'Name': 'Mango Pickle',\n",
       "  'Wt. in gm': 200,\n",
       "  'MRP in Rs.': 25,\n",
       "  'Available Stock': 23,\n",
       "  'Manufacturer': 'Haldirams'},\n",
       " 2011102055: {'Name': 'Mustard Oil',\n",
       "  'Wt. in gm': 400,\n",
       "  'MRP in Rs.': 60,\n",
       "  'Available Stock': 33,\n",
       "  'Manufacturer': 'Emami'},\n",
       " 2011102056: {'Name': 'Frooti pack',\n",
       "  'Wt. in gm': 50,\n",
       "  'MRP in Rs.': 10,\n",
       "  'Available Stock': 40,\n",
       "  'Manufacturer': 'Frooti'},\n",
       " 2011102057: {'Name': 'Spices',\n",
       "  'Wt. in gm': 200,\n",
       "  'MRP in Rs.': 25,\n",
       "  'Available Stock': 21,\n",
       "  'Manufacturer': 'MDH'},\n",
       " 2011102058: {'Name': 'Cooking oil',\n",
       "  'Wt. in gm': 500,\n",
       "  'MRP in Rs.': 80,\n",
       "  'Available Stock': 40,\n",
       "  'Manufacturer': 'Saffola'},\n",
       " 2011102059: {'Name': 'Basmati Rice',\n",
       "  'Wt. in gm': 500,\n",
       "  'MRP in Rs.': 200,\n",
       "  'Available Stock': 41,\n",
       "  'Manufacturer': 'Daawat'},\n",
       " 2011102060: {'Name': 'Kaju-Katli',\n",
       "  'Wt. in gm': 100,\n",
       "  'MRP in Rs.': 250,\n",
       "  'Available Stock': 50,\n",
       "  'Manufacturer': 'Haldirams'},\n",
       " 2011102061: {'Name': 'Chocolate Pastry',\n",
       "  'Wt. in gm': 60,\n",
       "  'MRP in Rs.': 25,\n",
       "  'Available Stock': 50,\n",
       "  'Manufacturer': 'Mio Amore'},\n",
       " 2011102062: {'Name': 'Patty',\n",
       "  'Wt. in gm': 50,\n",
       "  'MRP in Rs.': 25,\n",
       "  'Available Stock': 28,\n",
       "  'Manufacturer': 'Bhikharam'},\n",
       " 2011102063: {'Name': 'Ice Cream',\n",
       "  'Wt. in gm': 100,\n",
       "  'MRP in Rs.': 40,\n",
       "  'Available Stock': 23,\n",
       "  'Manufacturer': 'Amul'},\n",
       " 2011102064: {'Name': 'Milk',\n",
       "  'Wt. in gm': 50,\n",
       "  'MRP in Rs.': 15,\n",
       "  'Available Stock': 76,\n",
       "  'Manufacturer': 'Amul'},\n",
       " 2011102065: {'Name': 'Mustard Oil',\n",
       "  'Wt. in gm': 500,\n",
       "  'MRP in Rs.': 300,\n",
       "  'Available Stock': 76,\n",
       "  'Manufacturer': 'Fortune'},\n",
       " 2011102066: {'Name': 'Pasta',\n",
       "  'Wt. in gm': 100,\n",
       "  'MRP in Rs.': 60,\n",
       "  'Available Stock': 40,\n",
       "  'Manufacturer': 'DiSano'},\n",
       " 2011102067: {'Name': 'Snacks',\n",
       "  'Wt. in gm': 200,\n",
       "  'MRP in Rs.': 80,\n",
       "  'Available Stock': 50,\n",
       "  'Manufacturer': 'McCain'},\n",
       " 2011102068: {'Name': 'Kitkat',\n",
       "  'Wt. in gm': 50,\n",
       "  'MRP in Rs.': 30,\n",
       "  'Available Stock': 40,\n",
       "  'Manufacturer': 'Nestle'},\n",
       " 2011102069: {'Name': 'JimJam',\n",
       "  'Wt. in gm': 70,\n",
       "  'MRP in Rs.': 40,\n",
       "  'Available Stock': 29,\n",
       "  'Manufacturer': 'Nestle'}}"
      ]
     },
     "execution_count": 2,
     "metadata": {},
     "output_type": "execute_result"
    }
   ],
   "source": [
    "records"
   ]
  },
  {
   "cell_type": "code",
   "execution_count": 8,
   "id": "35b37cd6",
   "metadata": {},
   "outputs": [
    {
     "name": "stdout",
     "output_type": "stream",
     "text": [
      "Enter Item ID: 2011102070\n",
      "Enter name of the productNamkeen\n",
      "Enter wt. in gm 100\n",
      "Enter price in Rs. 40\n",
      "Enter stock 60\n",
      "Enter Manufacturer name Haldiram`s\n"
     ]
    }
   ],
   "source": [
    "#code to input a new item into the record dictionary\n",
    "#same code can also be used to insert new item name into sales.json file\n",
    "x=int(input(\"Enter Item ID: \"))\n",
    "y=input(\"Enter name of the product\")\n",
    "z=int(input(\"Enter wt. in gm \"))\n",
    "p=int(input(\"Enter price in Rs. \"))\n",
    "q=int(input(\"Enter stock \"))\n",
    "r=input(\"Enter Manufacturer name \")\n",
    "records[x]={\"Name\":y,\"Wt. in gm\":z,\"MRP in Rs.\":p,\"Available Stock\":q,\"Manufacturer\":r}"
   ]
  },
  {
   "cell_type": "code",
   "execution_count": 9,
   "id": "f7326789",
   "metadata": {},
   "outputs": [
    {
     "data": {
      "text/plain": [
       "{2011102040: {'Name': 'Fanta',\n",
       "  'Size in L': 1,\n",
       "  'MRP in Rs.': 20,\n",
       "  'Available Stock': 48,\n",
       "  'Manufacturer': 'Nestle'},\n",
       " 2011102041: {'Name': 'Dairy Milk',\n",
       "  'Wt. in gm': 100,\n",
       "  'MRP in Rs.': 40,\n",
       "  'Available Stock': 38,\n",
       "  'Manufacturer': 'Cadbury'},\n",
       " 2011102042: {'Name': 'Oreo Biscuits',\n",
       "  'Wt. in gm': 50,\n",
       "  'MRP in Rs.': 35,\n",
       "  'Available Stock': 50,\n",
       "  'Manufacturer': 'Oreo'},\n",
       " 2011102043: {'Name': 'Parle G',\n",
       "  'Wt. in gm': 150,\n",
       "  'MRP in Rs.': 45,\n",
       "  'Available Stock': 40,\n",
       "  'Manufacturer': 'Parle Agro'},\n",
       " 2011102044: {'Name': 'Wafers',\n",
       "  'Wt. in gm': 70,\n",
       "  'MRP in Rs.': 50,\n",
       "  'Available Stock': 62,\n",
       "  'Manufacturer': 'Balaji'},\n",
       " 2011102045: {'Name': 'Tomato Jam',\n",
       "  'Wt. in gm': 300,\n",
       "  'MRP in Rs.': 25,\n",
       "  'Available Stock': 45,\n",
       "  'Manufacturer': 'Kissan'},\n",
       " 2011102046: {'Name': 'French Fries',\n",
       "  'Wt. in gm': 150,\n",
       "  'MRP in Rs.': 60,\n",
       "  'Available Stock': 25,\n",
       "  'Manufacturer': 'McCain'},\n",
       " 2011102047: {'Name': 'Onion Pickle',\n",
       "  'Wt. in gm': 200,\n",
       "  'MRP in Rs.': 45,\n",
       "  'Available Stock': 55,\n",
       "  'Manufacturer': 'Mother Diary'},\n",
       " 2011102048: {'Name': 'Aloo Bhujia',\n",
       "  'Wt. in gm': 300,\n",
       "  'MRP in Rs.': 55,\n",
       "  'Available Stock': 42,\n",
       "  'Manufacturer': 'Haldirams'},\n",
       " 2011102049: {'Name': 'Rasam Powder',\n",
       "  'Wt. in gm': 500,\n",
       "  'MRP in Rs.': 70,\n",
       "  'Available Stock': 30,\n",
       "  'Manufacturer': 'MTR'},\n",
       " 2011102050: {'Name': 'Chaat Masala',\n",
       "  'Wt. in gm': 50,\n",
       "  'MRP in Rs.': 15,\n",
       "  'Available Stock': 52,\n",
       "  'Manufacturer': 'MDH'},\n",
       " 2011102051: {'Name': 'Tomato Sauce',\n",
       "  'Wt. in gm': 200,\n",
       "  'MRP in Rs.': 25,\n",
       "  'Available Stock': 23,\n",
       "  'Manufacturer': 'Veeba'},\n",
       " 2011102052: {'Name': 'Ghee',\n",
       "  'Wt. in gm': 150,\n",
       "  'MRP in Rs.': 30,\n",
       "  'Available Stock': 50,\n",
       "  'Manufacturer': 'Patanjali'},\n",
       " 2011102053: {'Name': 'Biscuits',\n",
       "  'Wt. in gm': 100,\n",
       "  'MRP in Rs.': 20,\n",
       "  'Available Stock': 43,\n",
       "  'Manufacturer': 'Britannia'},\n",
       " 2011102054: {'Name': 'Mango Pickle',\n",
       "  'Wt. in gm': 200,\n",
       "  'MRP in Rs.': 25,\n",
       "  'Available Stock': 23,\n",
       "  'Manufacturer': 'Haldirams'},\n",
       " 2011102055: {'Name': 'Mustard Oil',\n",
       "  'Wt. in gm': 400,\n",
       "  'MRP in Rs.': 60,\n",
       "  'Available Stock': 33,\n",
       "  'Manufacturer': 'Emami'},\n",
       " 2011102056: {'Name': 'Frooti pack',\n",
       "  'Wt. in gm': 50,\n",
       "  'MRP in Rs.': 10,\n",
       "  'Available Stock': 40,\n",
       "  'Manufacturer': 'Frooti'},\n",
       " 2011102057: {'Name': 'Spices',\n",
       "  'Wt. in gm': 200,\n",
       "  'MRP in Rs.': 25,\n",
       "  'Available Stock': 21,\n",
       "  'Manufacturer': 'MDH'},\n",
       " 2011102058: {'Name': 'Cooking oil',\n",
       "  'Wt. in gm': 500,\n",
       "  'MRP in Rs.': 80,\n",
       "  'Available Stock': 40,\n",
       "  'Manufacturer': 'Saffola'},\n",
       " 2011102059: {'Name': 'Basmati Rice',\n",
       "  'Wt. in gm': 500,\n",
       "  'MRP in Rs.': 200,\n",
       "  'Available Stock': 41,\n",
       "  'Manufacturer': 'Daawat'},\n",
       " 2011102060: {'Name': 'Kaju-Katli',\n",
       "  'Wt. in gm': 100,\n",
       "  'MRP in Rs.': 250,\n",
       "  'Available Stock': 50,\n",
       "  'Manufacturer': 'Haldirams'},\n",
       " 2011102061: {'Name': 'Chocolate Pastry',\n",
       "  'Wt. in gm': 60,\n",
       "  'MRP in Rs.': 25,\n",
       "  'Available Stock': 50,\n",
       "  'Manufacturer': 'Mio Amore'},\n",
       " 2011102062: {'Name': 'Patty',\n",
       "  'Wt. in gm': 50,\n",
       "  'MRP in Rs.': 25,\n",
       "  'Available Stock': 28,\n",
       "  'Manufacturer': 'Bhikharam'},\n",
       " 2011102063: {'Name': 'Ice Cream',\n",
       "  'Wt. in gm': 100,\n",
       "  'MRP in Rs.': 40,\n",
       "  'Available Stock': 23,\n",
       "  'Manufacturer': 'Amul'},\n",
       " 2011102064: {'Name': 'Milk',\n",
       "  'Wt. in gm': 50,\n",
       "  'MRP in Rs.': 15,\n",
       "  'Available Stock': 76,\n",
       "  'Manufacturer': 'Amul'},\n",
       " 2011102065: {'Name': 'Mustard Oil',\n",
       "  'Wt. in gm': 500,\n",
       "  'MRP in Rs.': 300,\n",
       "  'Available Stock': 76,\n",
       "  'Manufacturer': 'Fortune'},\n",
       " 2011102066: {'Name': 'Pasta',\n",
       "  'Wt. in gm': 100,\n",
       "  'MRP in Rs.': 60,\n",
       "  'Available Stock': 40,\n",
       "  'Manufacturer': 'DiSano'},\n",
       " 2011102067: {'Name': 'Snacks',\n",
       "  'Wt. in gm': 200,\n",
       "  'MRP in Rs.': 80,\n",
       "  'Available Stock': 50,\n",
       "  'Manufacturer': 'McCain'},\n",
       " 2011102068: {'Name': 'Kitkat',\n",
       "  'Wt. in gm': 50,\n",
       "  'MRP in Rs.': 30,\n",
       "  'Available Stock': 40,\n",
       "  'Manufacturer': 'Nestle'},\n",
       " 2011102069: {'Name': 'JimJam',\n",
       "  'Wt. in gm': 70,\n",
       "  'MRP in Rs.': 40,\n",
       "  'Available Stock': 29,\n",
       "  'Manufacturer': 'Nestle'},\n",
       " 2011102070: {'Name': 'Namkeen',\n",
       "  'Wt. in gm': 100,\n",
       "  'MRP in Rs.': 40,\n",
       "  'Available Stock': 60,\n",
       "  'Manufacturer': 'Haldiram`s'}}"
      ]
     },
     "execution_count": 9,
     "metadata": {},
     "output_type": "execute_result"
    }
   ],
   "source": [
    "records"
   ]
  },
  {
   "cell_type": "code",
   "execution_count": 10,
   "id": "28d88f1b",
   "metadata": {},
   "outputs": [
    {
     "name": "stdout",
     "output_type": "stream",
     "text": [
      "Enter Product ID: 2011102045\n",
      "{'Name': 'Tomato Jam', 'Wt. in gm': 300, 'MRP in Rs.': 25, 'Available Stock': 45, 'Manufacturer': 'Kissan'}\n",
      "Enter Product ID: 2011102052\n",
      "Available Stock =  50\n"
     ]
    }
   ],
   "source": [
    "#random checking\n",
    "reg=int(input(\"Enter Product ID: \"))\n",
    "print(records[reg])\n",
    "x=int(input(\"Enter Product ID: \"))\n",
    "print(\"Available Stock = \",end=' ')\n",
    "print(records[x][\"Available Stock\"])\n"
   ]
  },
  {
   "cell_type": "code",
   "execution_count": 11,
   "id": "a11b0632",
   "metadata": {},
   "outputs": [
    {
     "name": "stdout",
     "output_type": "stream",
     "text": [
      "Fanta\n",
      "Dairy Milk\n",
      "Oreo Biscuits\n",
      "Parle G\n",
      "Wafers\n",
      "Tomato Jam\n",
      "French Fries\n",
      "Onion Pickle\n",
      "Aloo Bhujia\n",
      "Rasam Powder\n",
      "Chaat Masala\n",
      "Tomato Sauce\n",
      "Ghee\n",
      "Biscuits\n",
      "Mango Pickle\n",
      "Mustard Oil\n",
      "Frooti pack\n",
      "Spices\n",
      "Cooking oil\n",
      "Basmati Rice\n",
      "Kaju-Katli\n",
      "Chocolate Pastry\n",
      "Patty\n",
      "Ice Cream\n",
      "Milk\n",
      "Mustard Oil\n",
      "Pasta\n",
      "Snacks\n",
      "Kitkat\n",
      "JimJam\n",
      "Namkeen\n"
     ]
    }
   ],
   "source": [
    "for i in records:\n",
    "    print(records[i]['Name'])"
   ]
  },
  {
   "cell_type": "code",
   "execution_count": 12,
   "id": "4000756e",
   "metadata": {},
   "outputs": [
    {
     "name": "stdout",
     "output_type": "stream",
     "text": [
      "Enter product you wanna buy: Oreo Biscuits\n",
      "Available Stock : 50\n"
     ]
    }
   ],
   "source": [
    "x=input(\"Enter product you wanna buy: \")\n",
    "for i in records:\n",
    "    if(records[i]['Name']==x):\n",
    "        print(\"Available Stock :\",end=' ')\n",
    "        print(records[i]['Available Stock'])"
   ]
  },
  {
   "cell_type": "code",
   "execution_count": 13,
   "id": "fe269473",
   "metadata": {},
   "outputs": [
    {
     "data": {
      "text/plain": [
       "dict"
      ]
     },
     "execution_count": 13,
     "metadata": {},
     "output_type": "execute_result"
    }
   ],
   "source": [
    "type(records)"
   ]
  },
  {
   "cell_type": "code",
   "execution_count": 14,
   "id": "f1a3f188",
   "metadata": {},
   "outputs": [],
   "source": [
    "import json "
   ]
  },
  {
   "cell_type": "code",
   "execution_count": 15,
   "id": "1db26585",
   "metadata": {},
   "outputs": [],
   "source": [
    "js=json.dumps(records) #storing the entire inventory in the form of a text"
   ]
  },
  {
   "cell_type": "code",
   "execution_count": 16,
   "id": "93e21c27",
   "metadata": {},
   "outputs": [
    {
     "data": {
      "text/plain": [
       "'{\"2011102040\": {\"Name\": \"Fanta\", \"Size in L\": 1, \"MRP in Rs.\": 20, \"Available Stock\": 48, \"Manufacturer\": \"Nestle\"}, \"2011102041\": {\"Name\": \"Dairy Milk\", \"Wt. in gm\": 100, \"MRP in Rs.\": 40, \"Available Stock\": 38, \"Manufacturer\": \"Cadbury\"}, \"2011102042\": {\"Name\": \"Oreo Biscuits\", \"Wt. in gm\": 50, \"MRP in Rs.\": 35, \"Available Stock\": 50, \"Manufacturer\": \"Oreo\"}, \"2011102043\": {\"Name\": \"Parle G\", \"Wt. in gm\": 150, \"MRP in Rs.\": 45, \"Available Stock\": 40, \"Manufacturer\": \"Parle Agro\"}, \"2011102044\": {\"Name\": \"Wafers\", \"Wt. in gm\": 70, \"MRP in Rs.\": 50, \"Available Stock\": 62, \"Manufacturer\": \"Balaji\"}, \"2011102045\": {\"Name\": \"Tomato Jam\", \"Wt. in gm\": 300, \"MRP in Rs.\": 25, \"Available Stock\": 45, \"Manufacturer\": \"Kissan\"}, \"2011102046\": {\"Name\": \"French Fries\", \"Wt. in gm\": 150, \"MRP in Rs.\": 60, \"Available Stock\": 25, \"Manufacturer\": \"McCain\"}, \"2011102047\": {\"Name\": \"Onion Pickle\", \"Wt. in gm\": 200, \"MRP in Rs.\": 45, \"Available Stock\": 55, \"Manufacturer\": \"Mother Diary\"}, \"2011102048\": {\"Name\": \"Aloo Bhujia\", \"Wt. in gm\": 300, \"MRP in Rs.\": 55, \"Available Stock\": 42, \"Manufacturer\": \"Haldirams\"}, \"2011102049\": {\"Name\": \"Rasam Powder\", \"Wt. in gm\": 500, \"MRP in Rs.\": 70, \"Available Stock\": 30, \"Manufacturer\": \"MTR\"}, \"2011102050\": {\"Name\": \"Chaat Masala\", \"Wt. in gm\": 50, \"MRP in Rs.\": 15, \"Available Stock\": 52, \"Manufacturer\": \"MDH\"}, \"2011102051\": {\"Name\": \"Tomato Sauce\", \"Wt. in gm\": 200, \"MRP in Rs.\": 25, \"Available Stock\": 23, \"Manufacturer\": \"Veeba\"}, \"2011102052\": {\"Name\": \"Ghee\", \"Wt. in gm\": 150, \"MRP in Rs.\": 30, \"Available Stock\": 50, \"Manufacturer\": \"Patanjali\"}, \"2011102053\": {\"Name\": \"Biscuits\", \"Wt. in gm\": 100, \"MRP in Rs.\": 20, \"Available Stock\": 43, \"Manufacturer\": \"Britannia\"}, \"2011102054\": {\"Name\": \"Mango Pickle\", \"Wt. in gm\": 200, \"MRP in Rs.\": 25, \"Available Stock\": 23, \"Manufacturer\": \"Haldirams\"}, \"2011102055\": {\"Name\": \"Mustard Oil\", \"Wt. in gm\": 400, \"MRP in Rs.\": 60, \"Available Stock\": 33, \"Manufacturer\": \"Emami\"}, \"2011102056\": {\"Name\": \"Frooti pack\", \"Wt. in gm\": 50, \"MRP in Rs.\": 10, \"Available Stock\": 40, \"Manufacturer\": \"Frooti\"}, \"2011102057\": {\"Name\": \"Spices\", \"Wt. in gm\": 200, \"MRP in Rs.\": 25, \"Available Stock\": 21, \"Manufacturer\": \"MDH\"}, \"2011102058\": {\"Name\": \"Cooking oil\", \"Wt. in gm\": 500, \"MRP in Rs.\": 80, \"Available Stock\": 40, \"Manufacturer\": \"Saffola\"}, \"2011102059\": {\"Name\": \"Basmati Rice\", \"Wt. in gm\": 500, \"MRP in Rs.\": 200, \"Available Stock\": 41, \"Manufacturer\": \"Daawat\"}, \"2011102060\": {\"Name\": \"Kaju-Katli\", \"Wt. in gm\": 100, \"MRP in Rs.\": 250, \"Available Stock\": 50, \"Manufacturer\": \"Haldirams\"}, \"2011102061\": {\"Name\": \"Chocolate Pastry\", \"Wt. in gm\": 60, \"MRP in Rs.\": 25, \"Available Stock\": 50, \"Manufacturer\": \"Mio Amore\"}, \"2011102062\": {\"Name\": \"Patty\", \"Wt. in gm\": 50, \"MRP in Rs.\": 25, \"Available Stock\": 28, \"Manufacturer\": \"Bhikharam\"}, \"2011102063\": {\"Name\": \"Ice Cream\", \"Wt. in gm\": 100, \"MRP in Rs.\": 40, \"Available Stock\": 23, \"Manufacturer\": \"Amul\"}, \"2011102064\": {\"Name\": \"Milk\", \"Wt. in gm\": 50, \"MRP in Rs.\": 15, \"Available Stock\": 76, \"Manufacturer\": \"Amul\"}, \"2011102065\": {\"Name\": \"Mustard Oil\", \"Wt. in gm\": 500, \"MRP in Rs.\": 300, \"Available Stock\": 76, \"Manufacturer\": \"Fortune\"}, \"2011102066\": {\"Name\": \"Pasta\", \"Wt. in gm\": 100, \"MRP in Rs.\": 60, \"Available Stock\": 40, \"Manufacturer\": \"DiSano\"}, \"2011102067\": {\"Name\": \"Snacks\", \"Wt. in gm\": 200, \"MRP in Rs.\": 80, \"Available Stock\": 50, \"Manufacturer\": \"McCain\"}, \"2011102068\": {\"Name\": \"Kitkat\", \"Wt. in gm\": 50, \"MRP in Rs.\": 30, \"Available Stock\": 40, \"Manufacturer\": \"Nestle\"}, \"2011102069\": {\"Name\": \"JimJam\", \"Wt. in gm\": 70, \"MRP in Rs.\": 40, \"Available Stock\": 29, \"Manufacturer\": \"Nestle\"}, \"2011102070\": {\"Name\": \"Namkeen\", \"Wt. in gm\": 100, \"MRP in Rs.\": 40, \"Available Stock\": 60, \"Manufacturer\": \"Haldiram`s\"}}'"
      ]
     },
     "execution_count": 16,
     "metadata": {},
     "output_type": "execute_result"
    }
   ],
   "source": [
    "js"
   ]
  },
  {
   "cell_type": "code",
   "execution_count": 17,
   "id": "fb55b21b",
   "metadata": {},
   "outputs": [],
   "source": [
    "#we now write this text to a json file\n",
    "fd=open(\"record.json\",\"w\")\n",
    "fd.write(js)\n",
    "fd.close()"
   ]
  },
  {
   "cell_type": "code",
   "execution_count": 18,
   "id": "57c95921",
   "metadata": {},
   "outputs": [],
   "source": [
    "#now we again open the file to access the text and perform operations\n",
    "fd=open(\"record.json\",\"r\")\n",
    "txt=fd.read()\n",
    "fd.close()"
   ]
  },
  {
   "cell_type": "code",
   "execution_count": 19,
   "id": "dee221a6",
   "metadata": {},
   "outputs": [
    {
     "data": {
      "text/plain": [
       "'{\"2011102040\": {\"Name\": \"Fanta\", \"Size in L\": 1, \"MRP in Rs.\": 20, \"Available Stock\": 48, \"Manufacturer\": \"Nestle\"}, \"2011102041\": {\"Name\": \"Dairy Milk\", \"Wt. in gm\": 100, \"MRP in Rs.\": 40, \"Available Stock\": 38, \"Manufacturer\": \"Cadbury\"}, \"2011102042\": {\"Name\": \"Oreo Biscuits\", \"Wt. in gm\": 50, \"MRP in Rs.\": 35, \"Available Stock\": 50, \"Manufacturer\": \"Oreo\"}, \"2011102043\": {\"Name\": \"Parle G\", \"Wt. in gm\": 150, \"MRP in Rs.\": 45, \"Available Stock\": 40, \"Manufacturer\": \"Parle Agro\"}, \"2011102044\": {\"Name\": \"Wafers\", \"Wt. in gm\": 70, \"MRP in Rs.\": 50, \"Available Stock\": 62, \"Manufacturer\": \"Balaji\"}, \"2011102045\": {\"Name\": \"Tomato Jam\", \"Wt. in gm\": 300, \"MRP in Rs.\": 25, \"Available Stock\": 45, \"Manufacturer\": \"Kissan\"}, \"2011102046\": {\"Name\": \"French Fries\", \"Wt. in gm\": 150, \"MRP in Rs.\": 60, \"Available Stock\": 25, \"Manufacturer\": \"McCain\"}, \"2011102047\": {\"Name\": \"Onion Pickle\", \"Wt. in gm\": 200, \"MRP in Rs.\": 45, \"Available Stock\": 55, \"Manufacturer\": \"Mother Diary\"}, \"2011102048\": {\"Name\": \"Aloo Bhujia\", \"Wt. in gm\": 300, \"MRP in Rs.\": 55, \"Available Stock\": 42, \"Manufacturer\": \"Haldirams\"}, \"2011102049\": {\"Name\": \"Rasam Powder\", \"Wt. in gm\": 500, \"MRP in Rs.\": 70, \"Available Stock\": 30, \"Manufacturer\": \"MTR\"}, \"2011102050\": {\"Name\": \"Chaat Masala\", \"Wt. in gm\": 50, \"MRP in Rs.\": 15, \"Available Stock\": 52, \"Manufacturer\": \"MDH\"}, \"2011102051\": {\"Name\": \"Tomato Sauce\", \"Wt. in gm\": 200, \"MRP in Rs.\": 25, \"Available Stock\": 23, \"Manufacturer\": \"Veeba\"}, \"2011102052\": {\"Name\": \"Ghee\", \"Wt. in gm\": 150, \"MRP in Rs.\": 30, \"Available Stock\": 50, \"Manufacturer\": \"Patanjali\"}, \"2011102053\": {\"Name\": \"Biscuits\", \"Wt. in gm\": 100, \"MRP in Rs.\": 20, \"Available Stock\": 43, \"Manufacturer\": \"Britannia\"}, \"2011102054\": {\"Name\": \"Mango Pickle\", \"Wt. in gm\": 200, \"MRP in Rs.\": 25, \"Available Stock\": 23, \"Manufacturer\": \"Haldirams\"}, \"2011102055\": {\"Name\": \"Mustard Oil\", \"Wt. in gm\": 400, \"MRP in Rs.\": 60, \"Available Stock\": 33, \"Manufacturer\": \"Emami\"}, \"2011102056\": {\"Name\": \"Frooti pack\", \"Wt. in gm\": 50, \"MRP in Rs.\": 10, \"Available Stock\": 40, \"Manufacturer\": \"Frooti\"}, \"2011102057\": {\"Name\": \"Spices\", \"Wt. in gm\": 200, \"MRP in Rs.\": 25, \"Available Stock\": 21, \"Manufacturer\": \"MDH\"}, \"2011102058\": {\"Name\": \"Cooking oil\", \"Wt. in gm\": 500, \"MRP in Rs.\": 80, \"Available Stock\": 40, \"Manufacturer\": \"Saffola\"}, \"2011102059\": {\"Name\": \"Basmati Rice\", \"Wt. in gm\": 500, \"MRP in Rs.\": 200, \"Available Stock\": 41, \"Manufacturer\": \"Daawat\"}, \"2011102060\": {\"Name\": \"Kaju-Katli\", \"Wt. in gm\": 100, \"MRP in Rs.\": 250, \"Available Stock\": 50, \"Manufacturer\": \"Haldirams\"}, \"2011102061\": {\"Name\": \"Chocolate Pastry\", \"Wt. in gm\": 60, \"MRP in Rs.\": 25, \"Available Stock\": 50, \"Manufacturer\": \"Mio Amore\"}, \"2011102062\": {\"Name\": \"Patty\", \"Wt. in gm\": 50, \"MRP in Rs.\": 25, \"Available Stock\": 28, \"Manufacturer\": \"Bhikharam\"}, \"2011102063\": {\"Name\": \"Ice Cream\", \"Wt. in gm\": 100, \"MRP in Rs.\": 40, \"Available Stock\": 23, \"Manufacturer\": \"Amul\"}, \"2011102064\": {\"Name\": \"Milk\", \"Wt. in gm\": 50, \"MRP in Rs.\": 15, \"Available Stock\": 76, \"Manufacturer\": \"Amul\"}, \"2011102065\": {\"Name\": \"Mustard Oil\", \"Wt. in gm\": 500, \"MRP in Rs.\": 300, \"Available Stock\": 76, \"Manufacturer\": \"Fortune\"}, \"2011102066\": {\"Name\": \"Pasta\", \"Wt. in gm\": 100, \"MRP in Rs.\": 60, \"Available Stock\": 40, \"Manufacturer\": \"DiSano\"}, \"2011102067\": {\"Name\": \"Snacks\", \"Wt. in gm\": 200, \"MRP in Rs.\": 80, \"Available Stock\": 50, \"Manufacturer\": \"McCain\"}, \"2011102068\": {\"Name\": \"Kitkat\", \"Wt. in gm\": 50, \"MRP in Rs.\": 30, \"Available Stock\": 40, \"Manufacturer\": \"Nestle\"}, \"2011102069\": {\"Name\": \"JimJam\", \"Wt. in gm\": 70, \"MRP in Rs.\": 40, \"Available Stock\": 29, \"Manufacturer\": \"Nestle\"}, \"2011102070\": {\"Name\": \"Namkeen\", \"Wt. in gm\": 100, \"MRP in Rs.\": 40, \"Available Stock\": 60, \"Manufacturer\": \"Haldiram`s\"}}'"
      ]
     },
     "execution_count": 19,
     "metadata": {},
     "output_type": "execute_result"
    }
   ],
   "source": [
    "txt"
   ]
  },
  {
   "cell_type": "code",
   "execution_count": 20,
   "id": "e85cd937",
   "metadata": {},
   "outputs": [],
   "source": [
    "#now we convert this text file back to the dictionary format\n",
    "record=json.loads(txt)"
   ]
  },
  {
   "cell_type": "code",
   "execution_count": 21,
   "id": "e1947e3e",
   "metadata": {},
   "outputs": [
    {
     "data": {
      "text/plain": [
       "{'2011102040': {'Name': 'Fanta',\n",
       "  'Size in L': 1,\n",
       "  'MRP in Rs.': 20,\n",
       "  'Available Stock': 48,\n",
       "  'Manufacturer': 'Nestle'},\n",
       " '2011102041': {'Name': 'Dairy Milk',\n",
       "  'Wt. in gm': 100,\n",
       "  'MRP in Rs.': 40,\n",
       "  'Available Stock': 38,\n",
       "  'Manufacturer': 'Cadbury'},\n",
       " '2011102042': {'Name': 'Oreo Biscuits',\n",
       "  'Wt. in gm': 50,\n",
       "  'MRP in Rs.': 35,\n",
       "  'Available Stock': 50,\n",
       "  'Manufacturer': 'Oreo'},\n",
       " '2011102043': {'Name': 'Parle G',\n",
       "  'Wt. in gm': 150,\n",
       "  'MRP in Rs.': 45,\n",
       "  'Available Stock': 40,\n",
       "  'Manufacturer': 'Parle Agro'},\n",
       " '2011102044': {'Name': 'Wafers',\n",
       "  'Wt. in gm': 70,\n",
       "  'MRP in Rs.': 50,\n",
       "  'Available Stock': 62,\n",
       "  'Manufacturer': 'Balaji'},\n",
       " '2011102045': {'Name': 'Tomato Jam',\n",
       "  'Wt. in gm': 300,\n",
       "  'MRP in Rs.': 25,\n",
       "  'Available Stock': 45,\n",
       "  'Manufacturer': 'Kissan'},\n",
       " '2011102046': {'Name': 'French Fries',\n",
       "  'Wt. in gm': 150,\n",
       "  'MRP in Rs.': 60,\n",
       "  'Available Stock': 25,\n",
       "  'Manufacturer': 'McCain'},\n",
       " '2011102047': {'Name': 'Onion Pickle',\n",
       "  'Wt. in gm': 200,\n",
       "  'MRP in Rs.': 45,\n",
       "  'Available Stock': 55,\n",
       "  'Manufacturer': 'Mother Diary'},\n",
       " '2011102048': {'Name': 'Aloo Bhujia',\n",
       "  'Wt. in gm': 300,\n",
       "  'MRP in Rs.': 55,\n",
       "  'Available Stock': 42,\n",
       "  'Manufacturer': 'Haldirams'},\n",
       " '2011102049': {'Name': 'Rasam Powder',\n",
       "  'Wt. in gm': 500,\n",
       "  'MRP in Rs.': 70,\n",
       "  'Available Stock': 30,\n",
       "  'Manufacturer': 'MTR'},\n",
       " '2011102050': {'Name': 'Chaat Masala',\n",
       "  'Wt. in gm': 50,\n",
       "  'MRP in Rs.': 15,\n",
       "  'Available Stock': 52,\n",
       "  'Manufacturer': 'MDH'},\n",
       " '2011102051': {'Name': 'Tomato Sauce',\n",
       "  'Wt. in gm': 200,\n",
       "  'MRP in Rs.': 25,\n",
       "  'Available Stock': 23,\n",
       "  'Manufacturer': 'Veeba'},\n",
       " '2011102052': {'Name': 'Ghee',\n",
       "  'Wt. in gm': 150,\n",
       "  'MRP in Rs.': 30,\n",
       "  'Available Stock': 50,\n",
       "  'Manufacturer': 'Patanjali'},\n",
       " '2011102053': {'Name': 'Biscuits',\n",
       "  'Wt. in gm': 100,\n",
       "  'MRP in Rs.': 20,\n",
       "  'Available Stock': 43,\n",
       "  'Manufacturer': 'Britannia'},\n",
       " '2011102054': {'Name': 'Mango Pickle',\n",
       "  'Wt. in gm': 200,\n",
       "  'MRP in Rs.': 25,\n",
       "  'Available Stock': 23,\n",
       "  'Manufacturer': 'Haldirams'},\n",
       " '2011102055': {'Name': 'Mustard Oil',\n",
       "  'Wt. in gm': 400,\n",
       "  'MRP in Rs.': 60,\n",
       "  'Available Stock': 33,\n",
       "  'Manufacturer': 'Emami'},\n",
       " '2011102056': {'Name': 'Frooti pack',\n",
       "  'Wt. in gm': 50,\n",
       "  'MRP in Rs.': 10,\n",
       "  'Available Stock': 40,\n",
       "  'Manufacturer': 'Frooti'},\n",
       " '2011102057': {'Name': 'Spices',\n",
       "  'Wt. in gm': 200,\n",
       "  'MRP in Rs.': 25,\n",
       "  'Available Stock': 21,\n",
       "  'Manufacturer': 'MDH'},\n",
       " '2011102058': {'Name': 'Cooking oil',\n",
       "  'Wt. in gm': 500,\n",
       "  'MRP in Rs.': 80,\n",
       "  'Available Stock': 40,\n",
       "  'Manufacturer': 'Saffola'},\n",
       " '2011102059': {'Name': 'Basmati Rice',\n",
       "  'Wt. in gm': 500,\n",
       "  'MRP in Rs.': 200,\n",
       "  'Available Stock': 41,\n",
       "  'Manufacturer': 'Daawat'},\n",
       " '2011102060': {'Name': 'Kaju-Katli',\n",
       "  'Wt. in gm': 100,\n",
       "  'MRP in Rs.': 250,\n",
       "  'Available Stock': 50,\n",
       "  'Manufacturer': 'Haldirams'},\n",
       " '2011102061': {'Name': 'Chocolate Pastry',\n",
       "  'Wt. in gm': 60,\n",
       "  'MRP in Rs.': 25,\n",
       "  'Available Stock': 50,\n",
       "  'Manufacturer': 'Mio Amore'},\n",
       " '2011102062': {'Name': 'Patty',\n",
       "  'Wt. in gm': 50,\n",
       "  'MRP in Rs.': 25,\n",
       "  'Available Stock': 28,\n",
       "  'Manufacturer': 'Bhikharam'},\n",
       " '2011102063': {'Name': 'Ice Cream',\n",
       "  'Wt. in gm': 100,\n",
       "  'MRP in Rs.': 40,\n",
       "  'Available Stock': 23,\n",
       "  'Manufacturer': 'Amul'},\n",
       " '2011102064': {'Name': 'Milk',\n",
       "  'Wt. in gm': 50,\n",
       "  'MRP in Rs.': 15,\n",
       "  'Available Stock': 76,\n",
       "  'Manufacturer': 'Amul'},\n",
       " '2011102065': {'Name': 'Mustard Oil',\n",
       "  'Wt. in gm': 500,\n",
       "  'MRP in Rs.': 300,\n",
       "  'Available Stock': 76,\n",
       "  'Manufacturer': 'Fortune'},\n",
       " '2011102066': {'Name': 'Pasta',\n",
       "  'Wt. in gm': 100,\n",
       "  'MRP in Rs.': 60,\n",
       "  'Available Stock': 40,\n",
       "  'Manufacturer': 'DiSano'},\n",
       " '2011102067': {'Name': 'Snacks',\n",
       "  'Wt. in gm': 200,\n",
       "  'MRP in Rs.': 80,\n",
       "  'Available Stock': 50,\n",
       "  'Manufacturer': 'McCain'},\n",
       " '2011102068': {'Name': 'Kitkat',\n",
       "  'Wt. in gm': 50,\n",
       "  'MRP in Rs.': 30,\n",
       "  'Available Stock': 40,\n",
       "  'Manufacturer': 'Nestle'},\n",
       " '2011102069': {'Name': 'JimJam',\n",
       "  'Wt. in gm': 70,\n",
       "  'MRP in Rs.': 40,\n",
       "  'Available Stock': 29,\n",
       "  'Manufacturer': 'Nestle'},\n",
       " '2011102070': {'Name': 'Namkeen',\n",
       "  'Wt. in gm': 100,\n",
       "  'MRP in Rs.': 40,\n",
       "  'Available Stock': 60,\n",
       "  'Manufacturer': 'Haldiram`s'}}"
      ]
     },
     "execution_count": 21,
     "metadata": {},
     "output_type": "execute_result"
    }
   ],
   "source": [
    "record"
   ]
  },
  {
   "cell_type": "code",
   "execution_count": 23,
   "id": "7e2aa87f",
   "metadata": {},
   "outputs": [
    {
     "name": "stdout",
     "output_type": "stream",
     "text": [
      "How many items would you like to buy? 12\n",
      "Enter the product you want to buy: Oreo Biscuits\n",
      "How many items of this product would you like? 5\n",
      "Total cost : 175\n",
      "Enter the product you want to buy: Parle G\n",
      "How many items of this product would you like? 8\n",
      "Total cost : 360\n",
      "Enter the product you want to buy: Wafers\n",
      "How many items of this product would you like? 6\n",
      "Total cost : 300\n",
      "Enter the product you want to buy: Tomato Jam\n",
      "How many items of this product would you like? 10\n",
      "Total cost : 250\n",
      "Enter the product you want to buy: French Fries\n",
      "How many items of this product would you like? 3\n",
      "Total cost : 180\n",
      "Enter the product you want to buy: Onion Pickle\n",
      "How many items of this product would you like? 2\n",
      "Total cost : 90\n",
      "Enter the product you want to buy: Aloo Bhujia\n",
      "How many items of this product would you like? 3\n",
      "Total cost : 165\n",
      "Enter the product you want to buy: Ghee\n",
      "How many items of this product would you like? 1\n",
      "Total cost : 30\n",
      "Enter the product you want to buy: Biscuits\n",
      "How many items of this product would you like? 5\n",
      "Total cost : 100\n",
      "Enter the product you want to buy: Ice Cream\n",
      "How many items of this product would you like? 4\n",
      "Total cost : 160\n",
      "Enter the product you want to buy: Milk\n",
      "How many items of this product would you like? 4\n",
      "Total cost : 60\n",
      "Enter the product you want to buy: Pasta\n",
      "How many items of this product would you like? 10\n",
      "Total cost : 600\n",
      "Final bill =  2470\n"
     ]
    }
   ],
   "source": [
    "#the day`s sales now begin.\n",
    "#In the following code we will be dealing with the orders of one customer\n",
    "x=int(input(\"How many items would you like to buy? \"))\n",
    "sum=0 \n",
    "i=1\n",
    "copy=0\n",
    "copy1=0\n",
    "while(i<=x):\n",
    "    y=input(\"Enter the product you want to buy: \")\n",
    "    for j in record:\n",
    "        if(record[j][\"Name\"]==y):\n",
    "            copy=j\n",
    "            cost=record[j][\"MRP in Rs.\"]\n",
    "    p=int(input(\"How many items of this product would you like? \"))\n",
    "    copy1=copy\n",
    "    total_cost=cost*p;#displaying the total cost of the no. of items of that particular category bought by the customer\n",
    "    print(\"Total cost :\", total_cost)\n",
    "    sum=sum+total_cost\n",
    "    for j in record:\n",
    "        if(record[j][\"Name\"]==y):\n",
    "            record[j][\"Available Stock\"]-=p #decreasing the available stock by no. of units sold\n",
    "    for j in record_sales:\n",
    "        if(record_sales[j][\"Name\"]==y):\n",
    "            record_sales[j][\"Quantity sold:\"]+=p  #increasing the no. of units sold      \n",
    "             \n",
    "    i=i+1      \n",
    "print(\"Final bill = \", sum)#printing the final bill of the customer            \n",
    "            \n",
    "    "
   ]
  },
  {
   "cell_type": "code",
   "execution_count": 64,
   "id": "0ad3244c",
   "metadata": {},
   "outputs": [],
   "source": [
    "record[\"2011102042\"][\"Available Stock\"]=50"
   ]
  },
  {
   "cell_type": "code",
   "execution_count": 29,
   "id": "f714c0bb",
   "metadata": {},
   "outputs": [
    {
     "data": {
      "text/plain": [
       "dict"
      ]
     },
     "execution_count": 29,
     "metadata": {},
     "output_type": "execute_result"
    }
   ],
   "source": [
    "type(record)"
   ]
  },
  {
   "cell_type": "code",
   "execution_count": 74,
   "id": "d6912d17",
   "metadata": {},
   "outputs": [
    {
     "data": {
      "text/plain": [
       "49"
      ]
     },
     "execution_count": 74,
     "metadata": {},
     "output_type": "execute_result"
    }
   ],
   "source": [
    "record[\"2011102042\"][\"Available Stock\"]"
   ]
  },
  {
   "cell_type": "code",
   "execution_count": 34,
   "id": "135ef752",
   "metadata": {},
   "outputs": [
    {
     "data": {
      "text/plain": [
       "{'Name': 'Oreo Biscuits',\n",
       " 'Wt. in gm': 50,\n",
       " 'MRP in Rs.': 35,\n",
       " 'Available Stock': 50,\n",
       " 'Manufacturer': 'Oreo'}"
      ]
     },
     "execution_count": 34,
     "metadata": {},
     "output_type": "execute_result"
    }
   ],
   "source": [
    "record[\"2011102042\"]"
   ]
  },
  {
   "cell_type": "code",
   "execution_count": 22,
   "id": "a091293b",
   "metadata": {},
   "outputs": [],
   "source": [
    "#We create a separate Dictionary to keep count of the no. of products sold\n",
    "record_sales={2011102040:{\"Name\":\"Fanta\",\"Quantity sold:\":0},\n",
    "         2011102041:{\"Name\":\"Dairy Milk\",\"Quantity sold:\":0},\n",
    "         2011102042:{\"Name\":\"Oreo Biscuits\",\"Quantity sold:\":0},\n",
    "         2011102043:{\"Name\":\"Parle G\",\"Quantity sold:\":0},\n",
    "         2011102044:{\"Name\":\"Wafers\",\"Quantity sold:\":0},\n",
    "         2011102045:{\"Name\":\"Tomato Jam\",\"Quantity sold:\":0},\n",
    "         2011102046:{\"Name\":\"French Fries\",\"Quantity sold:\":0},\n",
    "         2011102047:{\"Name\":\"Onion Pickle\",\"Quantity sold:\":0},\n",
    "         2011102048:{\"Name\":\"Aloo Bhujia\",\"Quantity sold:\":0},\n",
    "         2011102049:{\"Name\":\"Rasam Powder\",\"Quantity sold:\":0},\n",
    "         2011102050:{\"Name\":\"Chaat Masala\",\"Quantity sold:\":0},\n",
    "         2011102051:{\"Name\":\"Tomato Sauce\",\"Quantity sold:\":0},\n",
    "         2011102052:{\"Name\":\"Ghee\",\"Quantity sold:\":0},\n",
    "         2011102053:{\"Name\":\"Biscuits\",\"Quantity sold:\":0},\n",
    "          2011102054:{\"Name\":\"Mango Pickle\",\"Quantity sold:\":0},\n",
    "          2011102055:{\"Name\":\"Mustard Oil\",\"Quantity sold:\":0},\n",
    "          2011102056:{\"Name\":\"Frooti pack\",\"Quantity sold:\":0},\n",
    "          2011102057:{\"Name\":\"Spices\",\"Quantity sold:\":0},\n",
    "          2011102058:{\"Name\":\"Cooking oil\",\"Quantity sold:\":0},\n",
    "          2011102059:{\"Name\":\"Basmati Rice\",\"Quantity sold:\":0},\n",
    "          2011102060:{\"Name\":\"Kaju-Katli\",\"Quantity sold:\":0},\n",
    "          2011102061:{\"Name\":\"Chocolate Pastry\",\"Quantity sold:\":0},\n",
    "          2011102062:{\"Name\":\"Patty\",\"Quantity sold:\":0},\n",
    "          2011102063:{\"Name\":\"Ice Cream\",\"Quantity sold:\":0},\n",
    "          2011102064:{\"Name\":\"Milk\",\"Quantity sold:\":0},\n",
    "         2011102065:{\"Name\":\"Mustard Oil\",\"Quantity sold:\":0},\n",
    "         2011102066:{\"Name\":\"Pasta\",\"Quantity sold:\":0},\n",
    "         2011102067:{\"Name\":\"Snacks\",\"Quantity sold:\":0},\n",
    "         2011102068:{\"Name\":\"Kitkat\",\"Quantity sold:\":0},\n",
    "         2011102069:{\"Name\":\"JimJam\",\"Quantity sold:\":0}}\n",
    "#we initialise every quantity with 0 since initially nothing has been sold"
   ]
  },
  {
   "cell_type": "code",
   "execution_count": 73,
   "id": "3dff5136",
   "metadata": {},
   "outputs": [
    {
     "data": {
      "text/plain": [
       "1"
      ]
     },
     "execution_count": 73,
     "metadata": {},
     "output_type": "execute_result"
    }
   ],
   "source": [
    "record_sales[2011102042][\"Quantity sold:\"]"
   ]
  },
  {
   "cell_type": "code",
   "execution_count": 24,
   "id": "c7fe2f8b",
   "metadata": {},
   "outputs": [],
   "source": [
    "f=json.dumps(record) #creating the txt file of the record dictionary after the sales of one customer has been completed"
   ]
  },
  {
   "cell_type": "code",
   "execution_count": 25,
   "id": "4473150b",
   "metadata": {},
   "outputs": [
    {
     "data": {
      "text/plain": [
       "'{\"2011102040\": {\"Name\": \"Fanta\", \"Size in L\": 1, \"MRP in Rs.\": 20, \"Available Stock\": 48, \"Manufacturer\": \"Nestle\"}, \"2011102041\": {\"Name\": \"Dairy Milk\", \"Wt. in gm\": 100, \"MRP in Rs.\": 40, \"Available Stock\": 38, \"Manufacturer\": \"Cadbury\"}, \"2011102042\": {\"Name\": \"Oreo Biscuits\", \"Wt. in gm\": 50, \"MRP in Rs.\": 35, \"Available Stock\": 45, \"Manufacturer\": \"Oreo\"}, \"2011102043\": {\"Name\": \"Parle G\", \"Wt. in gm\": 150, \"MRP in Rs.\": 45, \"Available Stock\": 32, \"Manufacturer\": \"Parle Agro\"}, \"2011102044\": {\"Name\": \"Wafers\", \"Wt. in gm\": 70, \"MRP in Rs.\": 50, \"Available Stock\": 56, \"Manufacturer\": \"Balaji\"}, \"2011102045\": {\"Name\": \"Tomato Jam\", \"Wt. in gm\": 300, \"MRP in Rs.\": 25, \"Available Stock\": 35, \"Manufacturer\": \"Kissan\"}, \"2011102046\": {\"Name\": \"French Fries\", \"Wt. in gm\": 150, \"MRP in Rs.\": 60, \"Available Stock\": 22, \"Manufacturer\": \"McCain\"}, \"2011102047\": {\"Name\": \"Onion Pickle\", \"Wt. in gm\": 200, \"MRP in Rs.\": 45, \"Available Stock\": 53, \"Manufacturer\": \"Mother Diary\"}, \"2011102048\": {\"Name\": \"Aloo Bhujia\", \"Wt. in gm\": 300, \"MRP in Rs.\": 55, \"Available Stock\": 39, \"Manufacturer\": \"Haldirams\"}, \"2011102049\": {\"Name\": \"Rasam Powder\", \"Wt. in gm\": 500, \"MRP in Rs.\": 70, \"Available Stock\": 30, \"Manufacturer\": \"MTR\"}, \"2011102050\": {\"Name\": \"Chaat Masala\", \"Wt. in gm\": 50, \"MRP in Rs.\": 15, \"Available Stock\": 52, \"Manufacturer\": \"MDH\"}, \"2011102051\": {\"Name\": \"Tomato Sauce\", \"Wt. in gm\": 200, \"MRP in Rs.\": 25, \"Available Stock\": 23, \"Manufacturer\": \"Veeba\"}, \"2011102052\": {\"Name\": \"Ghee\", \"Wt. in gm\": 150, \"MRP in Rs.\": 30, \"Available Stock\": 49, \"Manufacturer\": \"Patanjali\"}, \"2011102053\": {\"Name\": \"Biscuits\", \"Wt. in gm\": 100, \"MRP in Rs.\": 20, \"Available Stock\": 38, \"Manufacturer\": \"Britannia\"}, \"2011102054\": {\"Name\": \"Mango Pickle\", \"Wt. in gm\": 200, \"MRP in Rs.\": 25, \"Available Stock\": 23, \"Manufacturer\": \"Haldirams\"}, \"2011102055\": {\"Name\": \"Mustard Oil\", \"Wt. in gm\": 400, \"MRP in Rs.\": 60, \"Available Stock\": 33, \"Manufacturer\": \"Emami\"}, \"2011102056\": {\"Name\": \"Frooti pack\", \"Wt. in gm\": 50, \"MRP in Rs.\": 10, \"Available Stock\": 40, \"Manufacturer\": \"Frooti\"}, \"2011102057\": {\"Name\": \"Spices\", \"Wt. in gm\": 200, \"MRP in Rs.\": 25, \"Available Stock\": 21, \"Manufacturer\": \"MDH\"}, \"2011102058\": {\"Name\": \"Cooking oil\", \"Wt. in gm\": 500, \"MRP in Rs.\": 80, \"Available Stock\": 40, \"Manufacturer\": \"Saffola\"}, \"2011102059\": {\"Name\": \"Basmati Rice\", \"Wt. in gm\": 500, \"MRP in Rs.\": 200, \"Available Stock\": 41, \"Manufacturer\": \"Daawat\"}, \"2011102060\": {\"Name\": \"Kaju-Katli\", \"Wt. in gm\": 100, \"MRP in Rs.\": 250, \"Available Stock\": 50, \"Manufacturer\": \"Haldirams\"}, \"2011102061\": {\"Name\": \"Chocolate Pastry\", \"Wt. in gm\": 60, \"MRP in Rs.\": 25, \"Available Stock\": 50, \"Manufacturer\": \"Mio Amore\"}, \"2011102062\": {\"Name\": \"Patty\", \"Wt. in gm\": 50, \"MRP in Rs.\": 25, \"Available Stock\": 28, \"Manufacturer\": \"Bhikharam\"}, \"2011102063\": {\"Name\": \"Ice Cream\", \"Wt. in gm\": 100, \"MRP in Rs.\": 40, \"Available Stock\": 19, \"Manufacturer\": \"Amul\"}, \"2011102064\": {\"Name\": \"Milk\", \"Wt. in gm\": 50, \"MRP in Rs.\": 15, \"Available Stock\": 72, \"Manufacturer\": \"Amul\"}, \"2011102065\": {\"Name\": \"Mustard Oil\", \"Wt. in gm\": 500, \"MRP in Rs.\": 300, \"Available Stock\": 76, \"Manufacturer\": \"Fortune\"}, \"2011102066\": {\"Name\": \"Pasta\", \"Wt. in gm\": 100, \"MRP in Rs.\": 60, \"Available Stock\": 30, \"Manufacturer\": \"DiSano\"}, \"2011102067\": {\"Name\": \"Snacks\", \"Wt. in gm\": 200, \"MRP in Rs.\": 80, \"Available Stock\": 50, \"Manufacturer\": \"McCain\"}, \"2011102068\": {\"Name\": \"Kitkat\", \"Wt. in gm\": 50, \"MRP in Rs.\": 30, \"Available Stock\": 40, \"Manufacturer\": \"Nestle\"}, \"2011102069\": {\"Name\": \"JimJam\", \"Wt. in gm\": 70, \"MRP in Rs.\": 40, \"Available Stock\": 29, \"Manufacturer\": \"Nestle\"}, \"2011102070\": {\"Name\": \"Namkeen\", \"Wt. in gm\": 100, \"MRP in Rs.\": 40, \"Available Stock\": 60, \"Manufacturer\": \"Haldiram`s\"}}'"
      ]
     },
     "execution_count": 25,
     "metadata": {},
     "output_type": "execute_result"
    }
   ],
   "source": [
    "f"
   ]
  },
  {
   "cell_type": "code",
   "execution_count": 26,
   "id": "ce778652",
   "metadata": {},
   "outputs": [],
   "source": [
    "fd=open(\"record.json\",\"w\")#uploading the updated records of items sold (remaining stock) in the record.json file\n",
    "fd.write(f)\n",
    "fd.close()"
   ]
  },
  {
   "cell_type": "code",
   "execution_count": 27,
   "id": "c5e11171",
   "metadata": {},
   "outputs": [],
   "source": [
    "s=json.dumps(record_sales)#creating text of the sales dictionary"
   ]
  },
  {
   "cell_type": "code",
   "execution_count": 28,
   "id": "85744b76",
   "metadata": {},
   "outputs": [
    {
     "data": {
      "text/plain": [
       "'{\"2011102040\": {\"Name\": \"Fanta\", \"Quantity sold:\": 0}, \"2011102041\": {\"Name\": \"Dairy Milk\", \"Quantity sold:\": 0}, \"2011102042\": {\"Name\": \"Oreo Biscuits\", \"Quantity sold:\": 5}, \"2011102043\": {\"Name\": \"Parle G\", \"Quantity sold:\": 8}, \"2011102044\": {\"Name\": \"Wafers\", \"Quantity sold:\": 6}, \"2011102045\": {\"Name\": \"Tomato Jam\", \"Quantity sold:\": 10}, \"2011102046\": {\"Name\": \"French Fries\", \"Quantity sold:\": 3}, \"2011102047\": {\"Name\": \"Onion Pickle\", \"Quantity sold:\": 2}, \"2011102048\": {\"Name\": \"Aloo Bhujia\", \"Quantity sold:\": 3}, \"2011102049\": {\"Name\": \"Rasam Powder\", \"Quantity sold:\": 0}, \"2011102050\": {\"Name\": \"Chaat Masala\", \"Quantity sold:\": 0}, \"2011102051\": {\"Name\": \"Tomato Sauce\", \"Quantity sold:\": 0}, \"2011102052\": {\"Name\": \"Ghee\", \"Quantity sold:\": 1}, \"2011102053\": {\"Name\": \"Biscuits\", \"Quantity sold:\": 5}, \"2011102054\": {\"Name\": \"Mango Pickle\", \"Quantity sold:\": 0}, \"2011102055\": {\"Name\": \"Mustard Oil\", \"Quantity sold:\": 0}, \"2011102056\": {\"Name\": \"Frooti pack\", \"Quantity sold:\": 0}, \"2011102057\": {\"Name\": \"Spices\", \"Quantity sold:\": 0}, \"2011102058\": {\"Name\": \"Cooking oil\", \"Quantity sold:\": 0}, \"2011102059\": {\"Name\": \"Basmati Rice\", \"Quantity sold:\": 0}, \"2011102060\": {\"Name\": \"Kaju-Katli\", \"Quantity sold:\": 0}, \"2011102061\": {\"Name\": \"Chocolate Pastry\", \"Quantity sold:\": 0}, \"2011102062\": {\"Name\": \"Patty\", \"Quantity sold:\": 0}, \"2011102063\": {\"Name\": \"Ice Cream\", \"Quantity sold:\": 4}, \"2011102064\": {\"Name\": \"Milk\", \"Quantity sold:\": 4}, \"2011102065\": {\"Name\": \"Mustard Oil\", \"Quantity sold:\": 0}, \"2011102066\": {\"Name\": \"Pasta\", \"Quantity sold:\": 10}, \"2011102067\": {\"Name\": \"Snacks\", \"Quantity sold:\": 0}, \"2011102068\": {\"Name\": \"Kitkat\", \"Quantity sold:\": 0}, \"2011102069\": {\"Name\": \"JimJam\", \"Quantity sold:\": 0}}'"
      ]
     },
     "execution_count": 28,
     "metadata": {},
     "output_type": "execute_result"
    }
   ],
   "source": [
    "s"
   ]
  },
  {
   "cell_type": "code",
   "execution_count": 29,
   "id": "103b882d",
   "metadata": {},
   "outputs": [],
   "source": [
    "fd=open(\"sales.json\",\"w\")#uploading the sales dictionary in form of txt in the sales.json folder\n",
    "fd.write(s)\n",
    "fd.close()"
   ]
  },
  {
   "cell_type": "code",
   "execution_count": 30,
   "id": "a82feb20",
   "metadata": {},
   "outputs": [],
   "source": [
    "fd=open(\"sales.json\",\"r\")\n",
    "txt=fd.read()\n",
    "fd.close()"
   ]
  },
  {
   "cell_type": "code",
   "execution_count": 31,
   "id": "eaee4c6a",
   "metadata": {},
   "outputs": [
    {
     "data": {
      "text/plain": [
       "'{\"2011102040\": {\"Name\": \"Fanta\", \"Quantity sold:\": 0}, \"2011102041\": {\"Name\": \"Dairy Milk\", \"Quantity sold:\": 0}, \"2011102042\": {\"Name\": \"Oreo Biscuits\", \"Quantity sold:\": 5}, \"2011102043\": {\"Name\": \"Parle G\", \"Quantity sold:\": 8}, \"2011102044\": {\"Name\": \"Wafers\", \"Quantity sold:\": 6}, \"2011102045\": {\"Name\": \"Tomato Jam\", \"Quantity sold:\": 10}, \"2011102046\": {\"Name\": \"French Fries\", \"Quantity sold:\": 3}, \"2011102047\": {\"Name\": \"Onion Pickle\", \"Quantity sold:\": 2}, \"2011102048\": {\"Name\": \"Aloo Bhujia\", \"Quantity sold:\": 3}, \"2011102049\": {\"Name\": \"Rasam Powder\", \"Quantity sold:\": 0}, \"2011102050\": {\"Name\": \"Chaat Masala\", \"Quantity sold:\": 0}, \"2011102051\": {\"Name\": \"Tomato Sauce\", \"Quantity sold:\": 0}, \"2011102052\": {\"Name\": \"Ghee\", \"Quantity sold:\": 1}, \"2011102053\": {\"Name\": \"Biscuits\", \"Quantity sold:\": 5}, \"2011102054\": {\"Name\": \"Mango Pickle\", \"Quantity sold:\": 0}, \"2011102055\": {\"Name\": \"Mustard Oil\", \"Quantity sold:\": 0}, \"2011102056\": {\"Name\": \"Frooti pack\", \"Quantity sold:\": 0}, \"2011102057\": {\"Name\": \"Spices\", \"Quantity sold:\": 0}, \"2011102058\": {\"Name\": \"Cooking oil\", \"Quantity sold:\": 0}, \"2011102059\": {\"Name\": \"Basmati Rice\", \"Quantity sold:\": 0}, \"2011102060\": {\"Name\": \"Kaju-Katli\", \"Quantity sold:\": 0}, \"2011102061\": {\"Name\": \"Chocolate Pastry\", \"Quantity sold:\": 0}, \"2011102062\": {\"Name\": \"Patty\", \"Quantity sold:\": 0}, \"2011102063\": {\"Name\": \"Ice Cream\", \"Quantity sold:\": 4}, \"2011102064\": {\"Name\": \"Milk\", \"Quantity sold:\": 4}, \"2011102065\": {\"Name\": \"Mustard Oil\", \"Quantity sold:\": 0}, \"2011102066\": {\"Name\": \"Pasta\", \"Quantity sold:\": 10}, \"2011102067\": {\"Name\": \"Snacks\", \"Quantity sold:\": 0}, \"2011102068\": {\"Name\": \"Kitkat\", \"Quantity sold:\": 0}, \"2011102069\": {\"Name\": \"JimJam\", \"Quantity sold:\": 0}}'"
      ]
     },
     "execution_count": 31,
     "metadata": {},
     "output_type": "execute_result"
    }
   ],
   "source": [
    "txt"
   ]
  },
  {
   "cell_type": "code",
   "execution_count": null,
   "id": "ec0e6b3b",
   "metadata": {},
   "outputs": [],
   "source": [
    "#this completes the sales for the first day, only for one customer. \n",
    "#For the subsequent days or for more customers ,the previous codes shall be run over and again"
   ]
  }
 ],
 "metadata": {
  "kernelspec": {
   "display_name": "Python 3 (ipykernel)",
   "language": "python",
   "name": "python3"
  },
  "language_info": {
   "codemirror_mode": {
    "name": "ipython",
    "version": 3
   },
   "file_extension": ".py",
   "mimetype": "text/x-python",
   "name": "python",
   "nbconvert_exporter": "python",
   "pygments_lexer": "ipython3",
   "version": "3.9.6"
  }
 },
 "nbformat": 4,
 "nbformat_minor": 5
}
